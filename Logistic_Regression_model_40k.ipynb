{
 "cells": [
  {
   "cell_type": "code",
   "execution_count": 16,
   "id": "1c17f627-ece9-40df-abb9-4f2110ee50ab",
   "metadata": {},
   "outputs": [],
   "source": [
    "# Import Libraries\n",
    "import numpy as np\n",
    "import pandas as pd\n",
    "import seaborn as sb\n",
    "import matplotlib.pyplot as plt # we only need pyplot\n",
    "from sklearn.model_selection import train_test_split\n",
    "sb.set() # set the default Seaborn style for graphics\n",
    "from sklearn.tree import DecisionTreeClassifier, plot_tree\n",
    "from sklearn.metrics import classification_report, confusion_matrix, accuracy_score\n",
    "from sklearn.preprocessing import LabelEncoder, OrdinalEncoder, OneHotEncoder #imported all for testing\n",
    "from sklearn.compose import ColumnTransformer\n",
    "from sklearn.linear_model import LogisticRegression \n",
    "from sklearn.metrics import mean_squared_error, r2_score\n",
    "\n",
    "TEST_SIZE = 0.2"
   ]
  },
  {
   "cell_type": "code",
   "execution_count": 25,
   "id": "57310547-c1ba-4dfa-86da-f5ad5dd8109b",
   "metadata": {},
   "outputs": [
    {
     "data": {
      "text/html": [
       "<div>\n",
       "<style scoped>\n",
       "    .dataframe tbody tr th:only-of-type {\n",
       "        vertical-align: middle;\n",
       "    }\n",
       "\n",
       "    .dataframe tbody tr th {\n",
       "        vertical-align: top;\n",
       "    }\n",
       "\n",
       "    .dataframe thead th {\n",
       "        text-align: right;\n",
       "    }\n",
       "</style>\n",
       "<table border=\"1\" class=\"dataframe\">\n",
       "  <thead>\n",
       "    <tr style=\"text-align: right;\">\n",
       "      <th></th>\n",
       "      <th>Weather_Conditions</th>\n",
       "      <th>Light_Conditions</th>\n",
       "      <th>Road_Type</th>\n",
       "      <th>Time</th>\n",
       "      <th>Urban_or_Rural_Area</th>\n",
       "      <th>Accident_Severity</th>\n",
       "    </tr>\n",
       "  </thead>\n",
       "  <tbody>\n",
       "    <tr>\n",
       "      <th>count</th>\n",
       "      <td>301916</td>\n",
       "      <td>307973</td>\n",
       "      <td>306439</td>\n",
       "      <td>307956</td>\n",
       "      <td>307973</td>\n",
       "      <td>307973</td>\n",
       "    </tr>\n",
       "    <tr>\n",
       "      <th>unique</th>\n",
       "      <td>8</td>\n",
       "      <td>5</td>\n",
       "      <td>5</td>\n",
       "      <td>1439</td>\n",
       "      <td>2</td>\n",
       "      <td>3</td>\n",
       "    </tr>\n",
       "    <tr>\n",
       "      <th>top</th>\n",
       "      <td>Fine no high winds</td>\n",
       "      <td>Daylight</td>\n",
       "      <td>Single carriageway</td>\n",
       "      <td>17:00</td>\n",
       "      <td>Urban</td>\n",
       "      <td>Slight</td>\n",
       "    </tr>\n",
       "    <tr>\n",
       "      <th>freq</th>\n",
       "      <td>244496</td>\n",
       "      <td>227286</td>\n",
       "      <td>230612</td>\n",
       "      <td>2933</td>\n",
       "      <td>198532</td>\n",
       "      <td>263280</td>\n",
       "    </tr>\n",
       "  </tbody>\n",
       "</table>\n",
       "</div>"
      ],
      "text/plain": [
       "        Weather_Conditions Light_Conditions           Road_Type    Time  \\\n",
       "count               301916           307973              306439  307956   \n",
       "unique                   8                5                   5    1439   \n",
       "top     Fine no high winds         Daylight  Single carriageway   17:00   \n",
       "freq                244496           227286              230612    2933   \n",
       "\n",
       "       Urban_or_Rural_Area Accident_Severity  \n",
       "count               307973            307973  \n",
       "unique                   2                 3  \n",
       "top                  Urban            Slight  \n",
       "freq                198532            263280  "
      ]
     },
     "execution_count": 25,
     "metadata": {},
     "output_type": "execute_result"
    }
   ],
   "source": [
    "# # # # 40000 COLUMNS\n",
    "# import data\n",
    "csv_data = pd.read_csv('./Road Accident Data.csv', low_memory=False)\n",
    "# # print(csv_data)\n",
    "\n",
    "# clean up typo in data\n",
    "# # print()\n",
    "csv_data['Accident_Severity'] = csv_data['Accident_Severity'].replace(['Fetal'], ['Fatal'])\n",
    "\n",
    "# extracting out rows that we want to look at\n",
    "# # print()\n",
    "working_data = pd.DataFrame(csv_data[['Weather_Conditions', 'Light_Conditions', 'Road_Type', 'Time', 'Urban_or_Rural_Area','Accident_Severity']])\n",
    "\n",
    "col = 'Accident_Severity'\n",
    "unique_values = working_data[col].unique()\n",
    "\n",
    "non_slight_data = working_data[working_data['Accident_Severity'] != \"Slight\"]\n",
    "slight_data = working_data[working_data['Accident_Severity'] == \"Slight\"]\n",
    "\n",
    "col = 'Accident_Severity'\n",
    "unique_values = non_slight_data[col].unique()\n",
    "\n",
    "unique_values = slight_data[col].unique()\n",
    "\n",
    "slight_data = slight_data.sample(40000)\n",
    "\n",
    "col = 'Accident_Severity'\n",
    "unique_values = slight_data[col].unique()\n",
    "\n",
    "combined_df = pd.concat([non_slight_data, slight_data], ignore_index=True)\n",
    "combined_df = combined_df.sample(frac=1)\n",
    "\n",
    "col = 'Accident_Severity'\n",
    "unique_values = combined_df[col].unique()\n",
    "\n",
    "working_data.describe()\n",
    "\n",
    "\n"
   ]
  },
  {
   "cell_type": "code",
   "execution_count": 37,
   "id": "48fc5944-a761-4aaf-808c-8bab36b081f1",
   "metadata": {},
   "outputs": [],
   "source": [
    "data = combined_df.copy()  # Make a copy of the original DataFrame\n",
    "\n",
    "X = data.drop('Accident_Severity', axis=1)\n",
    "Y = data['Accident_Severity']"
   ]
  },
  {
   "cell_type": "code",
   "execution_count": 38,
   "id": "af4a8e17-2e7a-4880-8c28-4b941efced63",
   "metadata": {},
   "outputs": [],
   "source": [
    "categorical_features = ['Weather_Conditions', 'Light_Conditions', 'Road_Type', 'Time', 'Urban_or_Rural_Area']\n",
    "one_hot_encoder = OneHotEncoder()\n",
    "preprocessor = ColumnTransformer(transformers=[('cat', one_hot_encoder, categorical_features)], remainder='passthrough')\n",
    "X_encoded = preprocessor.fit_transform(X)"
   ]
  },
  {
   "cell_type": "code",
   "execution_count": 39,
   "id": "a90ec06c-5402-4258-be26-58d162b52878",
   "metadata": {},
   "outputs": [],
   "source": [
    "X_train, X_test, y_train, y_test = train_test_split(X_encoded, Y, test_size=TEST_SIZE, random_state=1)"
   ]
  },
  {
   "cell_type": "code",
   "execution_count": 40,
   "id": "4396980e-b08f-43a6-a3a0-624fade26e12",
   "metadata": {},
   "outputs": [
    {
     "data": {
      "text/html": [
       "<style>#sk-container-id-2 {color: black;}#sk-container-id-2 pre{padding: 0;}#sk-container-id-2 div.sk-toggleable {background-color: white;}#sk-container-id-2 label.sk-toggleable__label {cursor: pointer;display: block;width: 100%;margin-bottom: 0;padding: 0.3em;box-sizing: border-box;text-align: center;}#sk-container-id-2 label.sk-toggleable__label-arrow:before {content: \"▸\";float: left;margin-right: 0.25em;color: #696969;}#sk-container-id-2 label.sk-toggleable__label-arrow:hover:before {color: black;}#sk-container-id-2 div.sk-estimator:hover label.sk-toggleable__label-arrow:before {color: black;}#sk-container-id-2 div.sk-toggleable__content {max-height: 0;max-width: 0;overflow: hidden;text-align: left;background-color: #f0f8ff;}#sk-container-id-2 div.sk-toggleable__content pre {margin: 0.2em;color: black;border-radius: 0.25em;background-color: #f0f8ff;}#sk-container-id-2 input.sk-toggleable__control:checked~div.sk-toggleable__content {max-height: 200px;max-width: 100%;overflow: auto;}#sk-container-id-2 input.sk-toggleable__control:checked~label.sk-toggleable__label-arrow:before {content: \"▾\";}#sk-container-id-2 div.sk-estimator input.sk-toggleable__control:checked~label.sk-toggleable__label {background-color: #d4ebff;}#sk-container-id-2 div.sk-label input.sk-toggleable__control:checked~label.sk-toggleable__label {background-color: #d4ebff;}#sk-container-id-2 input.sk-hidden--visually {border: 0;clip: rect(1px 1px 1px 1px);clip: rect(1px, 1px, 1px, 1px);height: 1px;margin: -1px;overflow: hidden;padding: 0;position: absolute;width: 1px;}#sk-container-id-2 div.sk-estimator {font-family: monospace;background-color: #f0f8ff;border: 1px dotted black;border-radius: 0.25em;box-sizing: border-box;margin-bottom: 0.5em;}#sk-container-id-2 div.sk-estimator:hover {background-color: #d4ebff;}#sk-container-id-2 div.sk-parallel-item::after {content: \"\";width: 100%;border-bottom: 1px solid gray;flex-grow: 1;}#sk-container-id-2 div.sk-label:hover label.sk-toggleable__label {background-color: #d4ebff;}#sk-container-id-2 div.sk-serial::before {content: \"\";position: absolute;border-left: 1px solid gray;box-sizing: border-box;top: 0;bottom: 0;left: 50%;z-index: 0;}#sk-container-id-2 div.sk-serial {display: flex;flex-direction: column;align-items: center;background-color: white;padding-right: 0.2em;padding-left: 0.2em;position: relative;}#sk-container-id-2 div.sk-item {position: relative;z-index: 1;}#sk-container-id-2 div.sk-parallel {display: flex;align-items: stretch;justify-content: center;background-color: white;position: relative;}#sk-container-id-2 div.sk-item::before, #sk-container-id-2 div.sk-parallel-item::before {content: \"\";position: absolute;border-left: 1px solid gray;box-sizing: border-box;top: 0;bottom: 0;left: 50%;z-index: -1;}#sk-container-id-2 div.sk-parallel-item {display: flex;flex-direction: column;z-index: 1;position: relative;background-color: white;}#sk-container-id-2 div.sk-parallel-item:first-child::after {align-self: flex-end;width: 50%;}#sk-container-id-2 div.sk-parallel-item:last-child::after {align-self: flex-start;width: 50%;}#sk-container-id-2 div.sk-parallel-item:only-child::after {width: 0;}#sk-container-id-2 div.sk-dashed-wrapped {border: 1px dashed gray;margin: 0 0.4em 0.5em 0.4em;box-sizing: border-box;padding-bottom: 0.4em;background-color: white;}#sk-container-id-2 div.sk-label label {font-family: monospace;font-weight: bold;display: inline-block;line-height: 1.2em;}#sk-container-id-2 div.sk-label-container {text-align: center;}#sk-container-id-2 div.sk-container {/* jupyter's `normalize.less` sets `[hidden] { display: none; }` but bootstrap.min.css set `[hidden] { display: none !important; }` so we also need the `!important` here to be able to override the default hidden behavior on the sphinx rendered scikit-learn.org. See: https://github.com/scikit-learn/scikit-learn/issues/21755 */display: inline-block !important;position: relative;}#sk-container-id-2 div.sk-text-repr-fallback {display: none;}</style><div id=\"sk-container-id-2\" class=\"sk-top-container\"><div class=\"sk-text-repr-fallback\"><pre>LogisticRegression(max_iter=10000)</pre><b>In a Jupyter environment, please rerun this cell to show the HTML representation or trust the notebook. <br />On GitHub, the HTML representation is unable to render, please try loading this page with nbviewer.org.</b></div><div class=\"sk-container\" hidden><div class=\"sk-item\"><div class=\"sk-estimator sk-toggleable\"><input class=\"sk-toggleable__control sk-hidden--visually\" id=\"sk-estimator-id-2\" type=\"checkbox\" checked><label for=\"sk-estimator-id-2\" class=\"sk-toggleable__label sk-toggleable__label-arrow\">LogisticRegression</label><div class=\"sk-toggleable__content\"><pre>LogisticRegression(max_iter=10000)</pre></div></div></div></div></div>"
      ],
      "text/plain": [
       "LogisticRegression(max_iter=10000)"
      ]
     },
     "execution_count": 40,
     "metadata": {},
     "output_type": "execute_result"
    }
   ],
   "source": [
    "model = LogisticRegression(max_iter=10000)\n",
    "model.fit(X_train, y_train)"
   ]
  },
  {
   "cell_type": "code",
   "execution_count": 42,
   "id": "c22a80b8-2d96-4088-bf14-ac9123e15971",
   "metadata": {},
   "outputs": [
    {
     "name": "stdout",
     "output_type": "stream",
     "text": [
      "(3, 1461)\n",
      "5\n"
     ]
    }
   ],
   "source": [
    "print(model.coef_.shape)  # This should output something like (1, n_features)\n",
    "print(X.shape[1]) "
   ]
  },
  {
   "cell_type": "code",
   "execution_count": 43,
   "id": "659e21f3-2457-45b0-804b-492fd1cbacb4",
   "metadata": {},
   "outputs": [],
   "source": [
    "y_pred = model.predict(X_test)"
   ]
  },
  {
   "cell_type": "code",
   "execution_count": 44,
   "id": "f27cf072-0682-490e-8662-ccfce4dcd4c7",
   "metadata": {},
   "outputs": [
    {
     "name": "stdout",
     "output_type": "stream",
     "text": [
      "Accuracy: 0.5273038550091504\n",
      "Classification Report:\n",
      "               precision    recall  f1-score   support\n",
      "\n",
      "       Fatal       0.50      0.00      0.01       779\n",
      "     Serious       0.52      0.54      0.53      8041\n",
      "      Slight       0.54      0.56      0.55      8119\n",
      "\n",
      "    accuracy                           0.53     16939\n",
      "   macro avg       0.52      0.37      0.36     16939\n",
      "weighted avg       0.53      0.53      0.52     16939\n",
      "\n",
      "Confusion Matrix:\n",
      " [[   2  517  260]\n",
      " [   2 4349 3690]\n",
      " [   0 3538 4581]]\n"
     ]
    }
   ],
   "source": [
    "print(f\"Accuracy: {accuracy_score(y_test, y_pred)}\")\n",
    "print(\"Classification Report:\\n\", classification_report(y_test, y_pred))\n",
    "print(\"Confusion Matrix:\\n\", confusion_matrix(y_test, y_pred))"
   ]
  },
  {
   "cell_type": "code",
   "execution_count": null,
   "id": "7eec8140-5fc0-4e4f-b4bf-4a1bc75b50b3",
   "metadata": {},
   "outputs": [],
   "source": []
  }
 ],
 "metadata": {
  "kernelspec": {
   "display_name": "Python 3 (ipykernel)",
   "language": "python",
   "name": "python3"
  },
  "language_info": {
   "codemirror_mode": {
    "name": "ipython",
    "version": 3
   },
   "file_extension": ".py",
   "mimetype": "text/x-python",
   "name": "python",
   "nbconvert_exporter": "python",
   "pygments_lexer": "ipython3",
   "version": "3.11.7"
  }
 },
 "nbformat": 4,
 "nbformat_minor": 5
}
