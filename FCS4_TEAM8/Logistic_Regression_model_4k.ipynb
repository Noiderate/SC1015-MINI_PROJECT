{
 "cells": [
  {
   "cell_type": "code",
   "execution_count": 6,
   "id": "1c17f627-ece9-40df-abb9-4f2110ee50ab",
   "metadata": {},
   "outputs": [],
   "source": [
    "# Import Libraries\n",
    "import numpy as np\n",
    "import pandas as pd\n",
    "import seaborn as sb\n",
    "import matplotlib.pyplot as plt # we only need pyplot\n",
    "from sklearn.model_selection import train_test_split\n",
    "sb.set() # set the default Seaborn style for graphics\n",
    "from sklearn.tree import DecisionTreeClassifier, plot_tree\n",
    "from sklearn.metrics import classification_report, confusion_matrix, accuracy_score\n",
    "from sklearn.preprocessing import LabelEncoder, OrdinalEncoder, OneHotEncoder #imported all for testing\n",
    "from sklearn.compose import ColumnTransformer\n",
    "from sklearn.linear_model import LogisticRegression \n",
    "from sklearn.metrics import mean_squared_error, r2_score\n",
    "\n",
    "TEST_SIZE = 0.2"
   ]
  },
  {
   "cell_type": "code",
   "execution_count": 7,
   "id": "57310547-c1ba-4dfa-86da-f5ad5dd8109b",
   "metadata": {},
   "outputs": [
    {
     "data": {
      "text/html": [
       "<div>\n",
       "<style scoped>\n",
       "    .dataframe tbody tr th:only-of-type {\n",
       "        vertical-align: middle;\n",
       "    }\n",
       "\n",
       "    .dataframe tbody tr th {\n",
       "        vertical-align: top;\n",
       "    }\n",
       "\n",
       "    .dataframe thead th {\n",
       "        text-align: right;\n",
       "    }\n",
       "</style>\n",
       "<table border=\"1\" class=\"dataframe\">\n",
       "  <thead>\n",
       "    <tr style=\"text-align: right;\">\n",
       "      <th></th>\n",
       "      <th>Weather_Conditions</th>\n",
       "      <th>Light_Conditions</th>\n",
       "      <th>Road_Type</th>\n",
       "      <th>Time</th>\n",
       "      <th>Urban_or_Rural_Area</th>\n",
       "      <th>Accident_Severity</th>\n",
       "    </tr>\n",
       "  </thead>\n",
       "  <tbody>\n",
       "    <tr>\n",
       "      <th>count</th>\n",
       "      <td>301916</td>\n",
       "      <td>307973</td>\n",
       "      <td>306439</td>\n",
       "      <td>307956</td>\n",
       "      <td>307973</td>\n",
       "      <td>307973</td>\n",
       "    </tr>\n",
       "    <tr>\n",
       "      <th>unique</th>\n",
       "      <td>8</td>\n",
       "      <td>5</td>\n",
       "      <td>5</td>\n",
       "      <td>1439</td>\n",
       "      <td>2</td>\n",
       "      <td>3</td>\n",
       "    </tr>\n",
       "    <tr>\n",
       "      <th>top</th>\n",
       "      <td>Fine no high winds</td>\n",
       "      <td>Daylight</td>\n",
       "      <td>Single carriageway</td>\n",
       "      <td>17:00</td>\n",
       "      <td>Urban</td>\n",
       "      <td>Slight</td>\n",
       "    </tr>\n",
       "    <tr>\n",
       "      <th>freq</th>\n",
       "      <td>244496</td>\n",
       "      <td>227286</td>\n",
       "      <td>230612</td>\n",
       "      <td>2933</td>\n",
       "      <td>198532</td>\n",
       "      <td>263280</td>\n",
       "    </tr>\n",
       "  </tbody>\n",
       "</table>\n",
       "</div>"
      ],
      "text/plain": [
       "        Weather_Conditions Light_Conditions           Road_Type    Time  \\\n",
       "count               301916           307973              306439  307956   \n",
       "unique                   8                5                   5    1439   \n",
       "top     Fine no high winds         Daylight  Single carriageway   17:00   \n",
       "freq                244496           227286              230612    2933   \n",
       "\n",
       "       Urban_or_Rural_Area Accident_Severity  \n",
       "count               307973            307973  \n",
       "unique                   2                 3  \n",
       "top                  Urban            Slight  \n",
       "freq                198532            263280  "
      ]
     },
     "execution_count": 7,
     "metadata": {},
     "output_type": "execute_result"
    }
   ],
   "source": [
    "# # # # 40000 COLUMNS\n",
    "# import data\n",
    "csv_data = pd.read_csv('../data/Road Accident Data.csv', low_memory=False)\n",
    "# # print(csv_data)\n",
    "\n",
    "# clean up typo in data\n",
    "# # print()\n",
    "csv_data['Accident_Severity'] = csv_data['Accident_Severity'].replace(['Fetal'], ['Fatal'])\n",
    "\n",
    "# extracting out rows that we want to look at\n",
    "# # print()\n",
    "working_data = pd.DataFrame(csv_data[['Weather_Conditions', 'Light_Conditions', 'Road_Type', 'Time', 'Urban_or_Rural_Area','Accident_Severity']])\n",
    "\n",
    "col = 'Accident_Severity'\n",
    "unique_values = working_data[col].unique()\n",
    "\n",
    "non_slight_data = working_data[working_data['Accident_Severity'] != \"Slight\"]\n",
    "slight_data = working_data[working_data['Accident_Severity'] == \"Slight\"]\n",
    "\n",
    "col = 'Accident_Severity'\n",
    "unique_values = non_slight_data[col].unique()\n",
    "\n",
    "unique_values = slight_data[col].unique()\n",
    "\n",
    "slight_data = slight_data.sample(40000)\n",
    "\n",
    "col = 'Accident_Severity'\n",
    "unique_values = slight_data[col].unique()\n",
    "\n",
    "combined_df = pd.concat([non_slight_data, slight_data], ignore_index=True)\n",
    "combined_df = combined_df.sample(frac=1)\n",
    "\n",
    "col = 'Accident_Severity'\n",
    "unique_values = combined_df[col].unique()\n",
    "\n",
    "working_data.describe()\n",
    "\n",
    "\n"
   ]
  },
  {
   "cell_type": "code",
   "execution_count": 8,
   "id": "48fc5944-a761-4aaf-808c-8bab36b081f1",
   "metadata": {},
   "outputs": [],
   "source": [
    "data = combined_df.copy()  # Make a copy of the original DataFrame\n",
    "\n",
    "X = data.drop('Accident_Severity', axis=1)\n",
    "Y = data['Accident_Severity']"
   ]
  },
  {
   "cell_type": "code",
   "execution_count": 9,
   "id": "af4a8e17-2e7a-4880-8c28-4b941efced63",
   "metadata": {},
   "outputs": [],
   "source": [
    "categorical_features = ['Weather_Conditions', 'Light_Conditions', 'Road_Type', 'Time', 'Urban_or_Rural_Area']\n",
    "one_hot_encoder = OneHotEncoder()\n",
    "preprocessor = ColumnTransformer(transformers=[('cat', one_hot_encoder, categorical_features)], remainder='passthrough')\n",
    "X_encoded = preprocessor.fit_transform(X)"
   ]
  },
  {
   "cell_type": "code",
   "execution_count": 10,
   "id": "a90ec06c-5402-4258-be26-58d162b52878",
   "metadata": {},
   "outputs": [],
   "source": [
    "X_train, X_test, y_train, y_test = train_test_split(X_encoded, Y, test_size=TEST_SIZE, random_state=1)"
   ]
  },
  {
   "cell_type": "code",
   "execution_count": 11,
   "id": "4396980e-b08f-43a6-a3a0-624fade26e12",
   "metadata": {},
   "outputs": [
    {
     "name": "stdout",
     "output_type": "stream",
     "text": [
      "Coefficients:\n",
      " [[ 0.32179947  0.21469067 -0.04442475 ... -0.16596805  0.14122731\n",
      "  -0.36226447]\n",
      " [-0.06572477  0.05104405  0.06275939 ... -0.0355336   0.01195019\n",
      "   0.08418381]\n",
      " [-0.2560747  -0.26573472 -0.01833464 ...  0.20150164 -0.1531775\n",
      "   0.27808067]]\n"
     ]
    }
   ],
   "source": [
    "model = LogisticRegression(max_iter=10000)\n",
    "model.fit(X_train, y_train)\n",
    "coefficients = model.coef_\n",
    "\n",
    "# Display the coefficients\n",
    "print(\"Coefficients:\\n\", coefficients)"
   ]
  },
  {
   "cell_type": "code",
   "execution_count": 12,
   "id": "c22a80b8-2d96-4088-bf14-ac9123e15971",
   "metadata": {},
   "outputs": [
    {
     "name": "stdout",
     "output_type": "stream",
     "text": [
      "(3, 1462)\n",
      "5\n"
     ]
    }
   ],
   "source": [
    "print(model.coef_.shape)  # This should output something like (1, n_features)\n",
    "print(X.shape[1]) "
   ]
  },
  {
   "cell_type": "code",
   "execution_count": 13,
   "id": "659e21f3-2457-45b0-804b-492fd1cbacb4",
   "metadata": {},
   "outputs": [],
   "source": [
    "y_pred = model.predict(X_test)"
   ]
  },
  {
   "cell_type": "code",
   "execution_count": 14,
   "id": "f27cf072-0682-490e-8662-ccfce4dcd4c7",
   "metadata": {},
   "outputs": [
    {
     "name": "stdout",
     "output_type": "stream",
     "text": [
      "Accuracy: 0.5335025680382549\n",
      "Classification Report:\n",
      "               precision    recall  f1-score   support\n",
      "\n",
      "       Fatal       0.00      0.00      0.00       794\n",
      "     Serious       0.53      0.54      0.53      8063\n",
      "      Slight       0.54      0.58      0.56      8082\n",
      "\n",
      "    accuracy                           0.53     16939\n",
      "   macro avg       0.36      0.37      0.36     16939\n",
      "weighted avg       0.51      0.53      0.52     16939\n",
      "\n",
      "Confusion Matrix:\n",
      " [[   0  518  276]\n",
      " [   4 4359 3700]\n",
      " [   4 3400 4678]]\n"
     ]
    }
   ],
   "source": [
    "print(f\"Accuracy: {accuracy_score(y_test, y_pred)}\")\n",
    "print(\"Classification Report:\\n\", classification_report(y_test, y_pred))\n",
    "print(\"Confusion Matrix:\\n\", confusion_matrix(y_test, y_pred))"
   ]
  },
  {
   "cell_type": "code",
   "execution_count": 15,
   "id": "7eec8140-5fc0-4e4f-b4bf-4a1bc75b50b3",
   "metadata": {},
   "outputs": [
    {
     "data": {
      "image/png": "[encoded data removed]",
      "text/plain": [
       "<Figure size 1000x700 with 2 Axes>"
      ]
     },
     "metadata": {},
     "output_type": "display_data"
    }
   ],
   "source": [
    "cm = confusion_matrix(y_test, y_pred)\n",
    "\n",
    "# Plot the confusion matrix\n",
    "plt.figure(figsize=(10, 7))\n",
    "sb.heatmap(cm, annot=True, fmt='g', cmap='Blues')\n",
    "plt.xlabel('Predicted labels')\n",
    "plt.ylabel('True labels')\n",
    "plt.title('Confusion Matrix')\n",
    "plt.show()"
   ]
  },
  {
   "cell_type": "code",
   "execution_count": 16,
   "id": "43c5e285-6921-4da2-a24b-df8cb093fac9",
   "metadata": {},
   "outputs": [
    {
     "name": "stdout",
     "output_type": "stream",
     "text": [
      "Coefficients:\n",
      " [[ 0.32179947  0.21469067 -0.04442475 ... -0.16596805  0.14122731\n",
      "  -0.36226447]\n",
      " [-0.06572477  0.05104405  0.06275939 ... -0.0355336   0.01195019\n",
      "   0.08418381]\n",
      " [-0.2560747  -0.26573472 -0.01833464 ...  0.20150164 -0.1531775\n",
      "   0.27808067]]\n"
     ]
    }
   ],
   "source": [
    "print(\"Feature Importances:\\n\")\n",
    "for feature, importance in zip(data.feature_names, feature_importances):\n",
    "    print(f\"{feature}: {importance:.4f}\")\n",
    "\n",
    "# Plotting feature importances\n",
    "plt.figure(figsize=(10, 6))\n",
    "plt.bar(data.feature_names, feature_importances, color='blue')\n",
    "plt.xlabel('Features')\n",
    "plt.ylabel('Importance')\n",
    "plt.title('Feature Importances')\n",
    "plt.show()"
   ]
  }
 ],
 "metadata": {
  "kernelspec": {
   "display_name": "Python 3 (ipykernel)",
   "language": "python",
   "name": "python3"
  },
  "language_info": {
   "codemirror_mode": {
    "name": "ipython",
    "version": 3
   },
   "file_extension": ".py",
   "mimetype": "text/x-python",
   "name": "python",
   "nbconvert_exporter": "python",
   "pygments_lexer": "ipython3",
   "version": "3.11.7"
  }
 },
 "nbformat": 4,
 "nbformat_minor": 5
}
