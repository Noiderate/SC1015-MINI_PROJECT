{
 "cells": [
  {
   "cell_type": "markdown",
   "metadata": {},
   "source": [
    "# Search Algorithm : Farmer Goat Wolf Cabbage\n",
    "---\n",
    "\n",
    "### Problem Statement:\n",
    "In a classic problem of constrained transportation involving a farmer, a goat, a wolf, and a cabbage, the farmer is faced with the challenge of safely ferrying all three items across a river using a single boat. The constraints dictate that \n",
    "1. the farmer can only transport one additional item alongside himself in the boat, \n",
    "2. **leaving the goat with the wolf** or **the cabbage with the goat** unsupervised will result in the consumption of one by the other. \n",
    "\n",
    "The objective is for the farmer to devise a series of crossings that allow the farmer to successfully transport all three items to the other side of the river without any instances of predation occurring.\n",
    "\n",
    "Source: https://www.geeksforgeeks.org/puzzle-farmer-goat-wolf-cabbage/\n",
    "\n",
    "### Task & Requirements\n",
    "In this exercise, you are task to develop and try diffrent search algorithm to solve above problem, observe if the algorithm is *complete* and if the algorithm is *optimum* by using the preparatory code given below. You are also encourage to attempt the challenge task to earn more marks for this lab exercise. This exercises are to be completed in a team which consist the same members for the mini-project in this course.\n",
    "\n",
    "At the end of this exercise, you are required explain each search algorithms developed by preparing and recording your presentation. The presentation video should **not exceed 5 minutes**. At the beginning of the video, each member **must briefly introduce themself** with **camera on**.\n",
    "\n",
    "Submit the completed **ipybn** and **presentation video** to the NTU Learn Lab Course Page.\n",
    "\n",
    "---\n",
    "\n",
    "### Essential Libraries\n",
    "\n",
    "Let us begin by importing the essential Python Libraries."
   ]
  },
  {
   "cell_type": "code",
   "execution_count": null,
   "metadata": {},
   "outputs": [],
   "source": [
    "# Install Networkx for graph visualization if you do not have the package installed.\n",
    "# !pip install networkx"
   ]
  },
  {
   "cell_type": "code",
   "execution_count": null,
   "metadata": {},
   "outputs": [],
   "source": [
    "import networkx as nx\n",
    "import matplotlib.pyplot as plt\n",
    "import queue"
   ]
  },
  {
   "cell_type": "code",
   "execution_count": null,
   "metadata": {},
   "outputs": [],
   "source": []
  },
  {
   "cell_type": "markdown",
   "metadata": {},
   "source": [
    "### Environment Setups\n",
    "1. Objects name (unused for non-challenge task, can be use for challenge task)\n",
    "2. forbidden states (unused for non-challenge task / for reference only, can be use for challenge task)\n",
    "3. allowable states - states that allowed during the game\n",
    "4. moves graph - possible game states transition"
   ]
  },
  {
   "cell_type": "code",
   "execution_count": null,
   "metadata": {},
   "outputs": [],
   "source": [
    "from IPython.display import Image\n",
    "print(\"Visualizing Game States and potential paths\")\n",
    "print(\"  The left and right river banks are separated by a pipeline |\")\n",
    "print(\"  Initial State - (WGLF| ), NOTE: in this figure, L == Cabbage\")\n",
    "print(\"  Red - Forbidden States, Green - Goal State(s)\")\n",
    "\n",
    "print(\"Image Source: https://math.stackexchange.com/questions/786881/wolf-cabbage-and-goat-using-dijkstra\")\n",
    "Image(filename='./images/mfx0J.png')"
   ]
  },
  {
   "cell_type": "markdown",
   "metadata": {},
   "source": [
    "### Simplified Version of FWGC Scenario\n",
    "The graphs above shows 21 possible states (represented as nodes) and two possible paths to reach the goal state.\n",
    "To simplify the case study, we just make use of all allowed states, and excluding all forbidden states for the rest of our experiments below.\n",
    "If you wish to, you can try to model all 21 states after completing the entire activities later as part of the Challenge Task."
   ]
  },
  {
   "cell_type": "code",
   "execution_count": null,
   "metadata": {},
   "outputs": [],
   "source": [
    "## Objects\n",
    "names = {\"F\": \"Farmer\",\n",
    "         \"W\": \"Wolf\",\n",
    "         \"G\": \"Goat\",\n",
    "         \"C\": \"Cabbage\"}\n",
    "\n",
    "forbidden_states = [\n",
    "    {\"W\",\"G\"}, \n",
    "    {\"G\",\"C\"}, \n",
    "    {\"G\",\"C\",\"W\"}\n",
    "    ]\n",
    "\n",
    "# \"State\": [{Left River Bank State}, {Right River Bank State}]\n",
    "allowable_states = {\n",
    "    \"1\" : [{\"F\", \"W\", \"G\", \"C\"}, {None}],\n",
    "    \"2\" : [{\"W\",\"C\"},{\"F\",\"G\"}],\n",
    "    \"3\" : [{\"F\",\"G\",\"C\"},{\"W\"}],\n",
    "    \"4\" : [{\"F\",\"W\",\"C\"},{\"G\"}],\n",
    "    \"5\" : [{\"F\",\"W\",\"G\"},{\"C\"}],\n",
    "    \"6\" : [{\"C\"},{\"F\",\"W\",\"G\"}],\n",
    "    \"7\" : [{\"W\"},{\"F\",\"G\",\"C\"}],\n",
    "    \"8\" : [{\"G\"},{\"F\",\"W\",\"C\"}],\n",
    "    \"9\" : [{\"F\",\"G\"},{\"W\",\"C\"}],\n",
    "    \"10\" : [{None},{\"F\",\"W\",\"G\",\"C\"}]\n",
    "}\n",
    "\n",
    "# (current node, adjecent node, weight/cost/time taken to cross river)\n",
    "# the weight is the cost / time needed for the farmer to rawl the boat and cross the river. \n",
    "# The heavier the boat is the longer time it takes to cross the river\n",
    "moves_graph = [\n",
    "    (\"1\", \"2\", {\"weight\":8.1}),     # Farmer + Goat         Left -> Right\n",
    "    (\"2\", \"4\", {\"weight\":5.6}),     # Farmer alone          Right -> Left\n",
    "    (\"4\", \"6\", {\"weight\":8.6}),     # Farmer + Wolf         Left -> Right\n",
    "    (\"4\", \"7\", {\"weight\":5.7}),     # Farmer + Cabbage      Left -> Right\n",
    "    (\"6\", \"3\", {\"weight\":8.1}),     # Farmer + Goat         Right -> Left\n",
    "    (\"7\", \"5\", {\"weight\":8.1}),     # Farmer + Goat         Right -> Left\n",
    "    (\"3\", \"8\", {\"weight\":5.7}),     # Farmer + Cabbage      Left -> Right\n",
    "    (\"5\", \"8\", {\"weight\":8.6}),     # Farmer + Wolf         Left -> Right\n",
    "    (\"8\", \"9\", {\"weight\":5.6}),     # Farmer alone          Right -> Left\n",
    "    (\"9\", \"10\", {\"weight\":8.1})     # Farmer + Goat         Left -> Right\n",
    "]\n"
   ]
  },
  {
   "cell_type": "markdown",
   "metadata": {},
   "source": [
    "### Game Graph\n",
    "Plotting the game state transition graphs"
   ]
  },
  {
   "cell_type": "code",
   "execution_count": null,
   "metadata": {},
   "outputs": [],
   "source": [
    "\n",
    "\n",
    "# Function to shows the graphs of possible moves/states that satisfy the game rules.\n",
    "def printGraph(graph):\n",
    "    G = nx.Graph()\n",
    "    G.add_edges_from(graph)\n",
    "\n",
    "    f = plt.figure(figsize = (10,10))\n",
    "    pos = nx.spring_layout(G)\n",
    "\n",
    "    nx.draw_networkx_nodes(G, pos, node_size = 1500)\n",
    "    nx.draw_networkx_edges(G, pos, width = 2)\n",
    "    nx.draw_networkx_labels(G, pos, font_size = 14)\n",
    "\n",
    "    plt.axis(\"off\")\n",
    "    plt.show()\n",
    "\n",
    "# Print Graphs and show list of states\n",
    "printGraph(moves_graph)\n",
    "\n",
    "print(\"States [{Left River Bank}, {Right River Bank}]\")\n",
    "for state in allowable_states:\n",
    "    print(f\"{state:6} {allowable_states[state]}\")"
   ]
  },
  {
   "cell_type": "code",
   "execution_count": null,
   "metadata": {},
   "outputs": [],
   "source": []
  },
  {
   "cell_type": "markdown",
   "metadata": {},
   "source": [
    "### Helper Functions\n",
    "\n",
    "These are helper function, no modification needed at this portion"
   ]
  },
  {
   "cell_type": "code",
   "execution_count": null,
   "metadata": {},
   "outputs": [],
   "source": [
    "# Get Neighbour Function\n",
    "def getNeighbours(graph, current_node):\n",
    "    ''' Function to generate list of adjecent node(s) / neighbour(s) when given a node.\n",
    "        Input  : moves graphs and current node\n",
    "        Output : list of adjecent node(s)\n",
    "    '''\n",
    "    neighbors = []\n",
    "    for i, j, w in graph:\n",
    "        if i == current_node:\n",
    "            neighbors.append((j, w))\n",
    "    \n",
    "    return neighbors\n",
    "\n",
    "def performSearch(func, name, graph, start, goal, heuristics=None):\n",
    "    ''' Function to generate list of adjecent node(s) / neighbour(s) when given a node.\n",
    "        Input  : moves graphs and current node\n",
    "        Output : list of adjecent node(s)\n",
    "    '''\n",
    "    # Run the selected search algorithm for path finding\n",
    "    if heuristics is None:      \n",
    "        # For uninformed search algorithms i.e. BFS, DFS & UCS\n",
    "        nodesExplored, pathsExplored, nodesProcessed = func(graph, start = start, goal = goal)\n",
    "    else:\n",
    "        # For informed search algorithms i.e. Greedy & A*Star Search\n",
    "        nodesExplored, pathsExplored, nodesProcessed = func(graph, start = start, goal = goal, heuristics=heuristics)\n",
    "\n",
    "    path = reconstruct_path(nodesExplored, start = start, goal = goal)\n",
    "\n",
    "    # Basic measures for the algorithm\n",
    "    print(\"=\" * len(name))\n",
    "    print(name)\n",
    "    print(\"=\" * len(name))\n",
    "    print()\n",
    "\n",
    "    totalNodes = len(moves_graph)\n",
    "    print(f\"Total nodes in graph    : {totalNodes}\")\n",
    "    print(f\"Total nodes visited     : {nodesProcessed} | {100*(nodesProcessed/totalNodes)}%\")\n",
    "    if pathsExplored is not None:\n",
    "        print(f\"Path Cost / Heuristics  :\")\n",
    "        print(\"------------------------\")\n",
    "        print(\"Node | Cost / Heuristics\")\n",
    "        print(\"------------------------\")\n",
    "        for n in pathsExplored:\n",
    "            print(f\"{n:2}   | {pathsExplored[n]:5.1f}\")\n",
    "        print(\"------------------------\")\n",
    "    print()\n",
    "    print(\"Final path steps taken  :\", len(path))\n",
    "\n",
    "    # Print the path and show using helper functions\n",
    "    print(\"Path through the Graph :\")\n",
    "    print(f\"(start)  \", end=\"\")\n",
    "    for node in path:\n",
    "        if node != goal:\n",
    "            print(f\"{node} -> \", end=\"\")\n",
    "        else:\n",
    "            print(f\"{node} (Goal)\")\n",
    "\n",
    "\n",
    "# Reconstruct the path from the Dict of explored nodes {node : parentNode}\n",
    "# Intuition : Backtrack from the goal node by checking successive parents\n",
    "def reconstruct_path(explored, start, goal):\n",
    "    currentNode = goal             # start at the goal node\n",
    "    path = []                      # initiate the blank path\n",
    "\n",
    "    # stop when backtrack reaches start node\n",
    "    while currentNode != start:\n",
    "        # grow the path backwards and backtrack\n",
    "        path.append(currentNode)\n",
    "        currentNode = explored[currentNode]\n",
    "\n",
    "    path.append(start)             # append start node for completeness\n",
    "    path.reverse()                 # reverse the path from start to goal\n",
    "\n",
    "    return path"
   ]
  },
  {
   "cell_type": "code",
   "execution_count": null,
   "metadata": {},
   "outputs": [],
   "source": []
  },
  {
   "cell_type": "markdown",
   "metadata": {},
   "source": [
    "### Breadth-First-Search (BFS) - Non-Challenge Task\n",
    "**Uninformed Search** : Focusses on the graph structure and not the *cost from start* or *distance from goal*."
   ]
  },
  {
   "cell_type": "code",
   "execution_count": null,
   "metadata": {},
   "outputs": [],
   "source": [
    "# Breadth-First-Search (BFS) with FIFO Queue\n",
    "\n",
    "def breadth_first_search(graph, start, goal):\n",
    "    ''' Function to perform BFS to find path in a graph\n",
    "        Input  : Graph with the start and goal vertices\n",
    "        Output : Dict of explored vertices in the graph\n",
    "    '''\n",
    "    frontier = queue.Queue()    # FIFO Queue for Frontier\n",
    "    \n",
    "    # initialization\n",
    "    frontier.put(start)         # Add the start node to frontier\n",
    "    explored = {}               # Dict of explored nodes {node : parentNode}\n",
    "    explored[start] = None      # start node has no parent node\n",
    "    processed = 0               # Count of total nodes processed\n",
    "    \n",
    "\n",
    "    ### YOUR CODE STARTS HERE\n",
    "\n",
    "\n",
    "\n",
    "    ### YOUR CODE ENDS HERE\n",
    "    \n",
    "    return explored, None, processed\n",
    "\n",
    "INIT_STATE = \"1\"\n",
    "GOAL_STATE = \"10\"\n",
    "performSearch(breadth_first_search, \"Breadth First Search (BFS)\", moves_graph, INIT_STATE, GOAL_STATE)"
   ]
  },
  {
   "cell_type": "markdown",
   "metadata": {},
   "source": [
    "### Reflection Questions for BFS\n",
    "\n",
    "1. How many nodes (total) in the graphs, and how many nodes has been visited before reaching the goal state?\n",
    "2. Is this algorithm *complete*? Is it *optimal*? Is there anything you can do to increase its *efficiency*?"
   ]
  },
  {
   "cell_type": "code",
   "execution_count": null,
   "metadata": {},
   "outputs": [],
   "source": [
    "### Write your answer here:\n",
    "answer1 = \"\"\n",
    "answer2 = \"\"\n",
    "\n",
    "print(f\"Question 1: {answer1}\")\n",
    "print(f\"Question 2: {answer2}\")"
   ]
  },
  {
   "cell_type": "code",
   "execution_count": null,
   "metadata": {},
   "outputs": [],
   "source": []
  },
  {
   "cell_type": "markdown",
   "metadata": {},
   "source": [
    "### Depth-First-Search (DFS) - Non-Challenge Task\n",
    "\n",
    "**Uninformed Search** : Focusses on the graph structure and not the *cost from start* or *distance from goal*."
   ]
  },
  {
   "cell_type": "code",
   "execution_count": null,
   "metadata": {},
   "outputs": [],
   "source": [
    "# Depth-First-Search (DFS) with LIFO Queue\n",
    "\n",
    "def depth_first_search(graph, start, goal):\n",
    "    ''' Function to perform DFS to find path in a graph\n",
    "        Input  : Graph with the start and goal vertices\n",
    "        Output : Dict of explored vertices in the graph\n",
    "    '''\n",
    "    ### YOUR CODE STARTS HERE\n",
    "\n",
    "\n",
    "\n",
    "    ### YOUR CODE ENDS HERE\n",
    "    \n",
    "    return explored, None, processed\n",
    "\n",
    "\n",
    "\n",
    "performSearch(depth_first_search, \"Depth First Search (BFS)\", moves_graph, INIT_STATE, GOAL_STATE)"
   ]
  },
  {
   "cell_type": "markdown",
   "metadata": {},
   "source": [
    "### Reflection Questions for DFS\n",
    "\n",
    "1. How many nodes (total) in the graphs, and how many nodes has been visited before reaching the goal state?\n",
    "2. Is this algorithm *complete*? Is it *optimal*? Is there anything you can do to increase its *efficiency*?"
   ]
  },
  {
   "cell_type": "code",
   "execution_count": null,
   "metadata": {},
   "outputs": [],
   "source": [
    "### Write your answer here:\n",
    "answer1 = \"\"\n",
    "answer2 = \"\"\n",
    "\n",
    "print(f\"Question 1: {answer1}\")\n",
    "print(f\"Question 2: {answer2}\")"
   ]
  },
  {
   "cell_type": "code",
   "execution_count": null,
   "metadata": {},
   "outputs": [],
   "source": []
  },
  {
   "cell_type": "markdown",
   "metadata": {},
   "source": [
    "### Uniform-Cost-Search (UCS) - Non-Challenge Task\n",
    "\n",
    "**Uninformed Search** : Focusses on the graph structure and the *cost from start*, but not the *distance from goal*.\n",
    "\n",
    "Here, we will be using the weight / cost function to determine the node to expand."
   ]
  },
  {
   "cell_type": "code",
   "execution_count": null,
   "metadata": {},
   "outputs": [],
   "source": [
    "# Uniform-Cost-Search (UCS) with Priority Queue\n",
    "\n",
    "def uniform_cost_search(graph, start, goal):\n",
    "    ''' Function to perform UCS to find path in a graph\n",
    "        Input  : Graph with the start and goal vertices\n",
    "        Output : Dict of explored vertices in the graph\n",
    "    '''\n",
    "    ### YOUR CODE STARTS HERE\n",
    "\n",
    "\n",
    "\n",
    "    ### YOUR CODE ENDS HERE\n",
    "    \n",
    "    return explored, pathcost, processed\n",
    "\n",
    "\n",
    "# x = uniform_cost_search(moves_graph, INIT_STATE, GOAL_STATE)\n",
    "performSearch(uniform_cost_search, \"Uniform-Cost-Search (UCS)\", moves_graph, INIT_STATE, GOAL_STATE)"
   ]
  },
  {
   "cell_type": "markdown",
   "metadata": {},
   "source": [
    "### Reflection Questions for UCS\n",
    "\n",
    "1. How many nodes in total in the graphs, and how many nodes has been visited before reaching the goal state?\n",
    "2. Is this algorithm *complete*? Is it *optimal*? Is there anything you can do to increase its *efficiency*?\n",
    "3. Do you find any thing strange about this solution when compared with the previous search algorithm?"
   ]
  },
  {
   "cell_type": "code",
   "execution_count": null,
   "metadata": {},
   "outputs": [],
   "source": [
    "## Write your answer here:\n",
    "answer1 = \"\"\n",
    "answer2 = \"\"\n",
    "answer3 = \"\"\n",
    "\n",
    "print(f\"Question 1: {answer1}\")\n",
    "print(f\"Question 2: {answer2}\")\n",
    "print(f\"Question 3: {answer3}\")"
   ]
  },
  {
   "cell_type": "code",
   "execution_count": null,
   "metadata": {},
   "outputs": [],
   "source": []
  },
  {
   "cell_type": "markdown",
   "metadata": {},
   "source": [
    "### Greedy-Search (GS) - Non-Challenge Task\n",
    "\n",
    "**Informed Search** : Focusses on the graph structure and the *distance from goal*, but not the *cost from start*.\n",
    "\n",
    "Here, we will be using the weight / cost function to determine the node to expand.\n",
    "Assuming the FWFC_Heuristics class recorded some predefined heuristics / time taken to reach the goal state at any given state.\n",
    "\n",
    "\n",
    "These heuristics is an estimated time taken to reach the goal state at any given state. \n",
    "How these heuristics are calculated / defined for this scenario is beyond the scope of this course"
   ]
  },
  {
   "cell_type": "code",
   "execution_count": null,
   "metadata": {},
   "outputs": [],
   "source": [
    "'''\n",
    "    Pre-defined Heuristics information for this scenario \n",
    "'''\n",
    "class FWGC_Heuristics:\n",
    "    def __init__(self):\n",
    "        self.heuristics = {\n",
    "         \"1\": 47,\n",
    "         \"2\": 41,\n",
    "         \"3\": 19,\n",
    "         \"4\": 35,\n",
    "         \"5\": 17,\n",
    "         \"6\": 22,\n",
    "         \"7\": 27,\n",
    "         \"8\": 10,\n",
    "         \"9\": 8,\n",
    "         \"10\": 0\n",
    "        }\n",
    "\n",
    "    def getHeuristics(self, node):\n",
    "        return self.heuristics[node]\n",
    "    \n",
    "H = FWGC_Heuristics()\n",
    "for n in allowable_states.keys():\n",
    "    h = H.getHeuristics(n)\n",
    "    print(f\"State: {n:2}, Heuristics: {h}\")"
   ]
  },
  {
   "cell_type": "code",
   "execution_count": null,
   "metadata": {},
   "outputs": [],
   "source": [
    "# Greedy-Search (GS) with Priority Queue\n",
    "\n",
    "def greedy_search(graph, start, goal, heuristics):\n",
    "    ''' Function to perform GS to find path in a graph\n",
    "        Input  : Graph with the start and goal vertices\n",
    "        Output : Dict of explored vertices in the graph\n",
    "    '''\n",
    "    ### YOUR CODE STARTS HERE\n",
    "\n",
    "\n",
    "\n",
    "    ### YOUR CODE ENDS HERE\n",
    "    return explored, pathcost, processed\n",
    "\n",
    "performSearch(greedy_search, \"Greedy Search\", moves_graph, INIT_STATE, GOAL_STATE, H)"
   ]
  },
  {
   "cell_type": "markdown",
   "metadata": {},
   "source": [
    "### Reflection Questions for GS\n",
    "\n",
    "1. How many nodes in total in the graphs, and how many nodes has been visited before reaching the goal state?\n",
    "2. Is this algorithm *complete*? Is it *optimal*? Is there anything you can do to increase its *efficiency*?\n",
    "3. Do you find any thing strange about this solution when compared with all other previous search algorithms?"
   ]
  },
  {
   "cell_type": "code",
   "execution_count": null,
   "metadata": {},
   "outputs": [],
   "source": [
    "## Write your answer here:\n",
    "answer1 = \"\"\n",
    "answer2 = \"\"\n",
    "answer3 = \"\"\n",
    "\n",
    "print(f\"Question 1: {answer1}\")\n",
    "print(f\"Question 2: {answer2}\")\n",
    "print(f\"Question 3: {answer3}\")"
   ]
  },
  {
   "cell_type": "code",
   "execution_count": null,
   "metadata": {},
   "outputs": [],
   "source": []
  },
  {
   "cell_type": "markdown",
   "metadata": {},
   "source": [
    "### Challenge Task (Graded)\n",
    "1. Try to do the same for A* Search Algorithm, observe are there any differences as compared with other search algorithms developed so far? Explain why.\n",
    "2. Since this scenarios is simplified version, can you try to include all other states and make it 21 nodes (as shown in graph earlier)? Copy/reuse some of above code and provide different variable/function name (*allowed_states* & *moves_graphs*) and re-run all algorithms at the bottom of this notebook.\n",
    "3. Can you think of expanding this game by adding maybe an Elephant (E) with Cost of 30. The elephant will kill the Wolf (W) if left unsupervised. How the graphs will looks like and does the path change?\n",
    "\n",
    "---\n",
    "\n",
    "### Optional Task (Ungraded)\n",
    "Once you have completed all above task, try to work on some additional experiments as follow:\n",
    "1. Without using the predefine allowed_states, develop an algorithm to derive the allowed_states based on all possible game states and the game constraints (i.e. Wolf & Goat as well as Goat & Cabbage cannot be left unsupervised)\n",
    "2. For each search algorithm above, develop a good visualization showing the selected path. Show both the cost / heuristics in the visualization\n",
    "3. Develop an animation showing each steps how the algorithm works.\n",
    "\n",
    "**Note**: This optional task is ungraded and is purly for your own learning and practices. Good Luck!!!"
   ]
  },
  {
   "cell_type": "code",
   "execution_count": null,
   "metadata": {},
   "outputs": [],
   "source": []
  },
  {
   "cell_type": "code",
   "execution_count": null,
   "metadata": {},
   "outputs": [],
   "source": []
  },
  {
   "cell_type": "code",
   "execution_count": null,
   "metadata": {},
   "outputs": [],
   "source": []
  },
  {
   "cell_type": "code",
   "execution_count": null,
   "metadata": {},
   "outputs": [],
   "source": []
  },
  {
   "cell_type": "code",
   "execution_count": null,
   "metadata": {},
   "outputs": [],
   "source": []
  },
  {
   "cell_type": "code",
   "execution_count": null,
   "metadata": {},
   "outputs": [],
   "source": []
  }
 ],
 "metadata": {
  "kernelspec": {
   "display_name": "sc1015",
   "language": "python",
   "name": "python3"
  },
  "language_info": {
   "codemirror_mode": {
    "name": "ipython",
    "version": 3
   },
   "file_extension": ".py",
   "mimetype": "text/x-python",
   "name": "python",
   "nbconvert_exporter": "python",
   "pygments_lexer": "ipython3",
   "version": "3.10.8"
  }
 },
 "nbformat": 4,
 "nbformat_minor": 2
}
