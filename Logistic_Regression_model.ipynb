{
 "cells": [
  {
   "cell_type": "code",
   "execution_count": 3,
   "id": "1c17f627-ece9-40df-abb9-4f2110ee50ab",
   "metadata": {},
   "outputs": [],
   "source": [
    "# Import Libraries\n",
    "import numpy as np\n",
    "import pandas as pd\n",
    "import seaborn as sb\n",
    "import matplotlib.pyplot as plt # we only need pyplot\n",
    "from sklearn.model_selection import train_test_split\n",
    "sb.set() # set the default Seaborn style for graphics\n",
    "from sklearn.tree import DecisionTreeClassifier, plot_tree\n",
    "from sklearn.metrics import classification_report, confusion_matrix, accuracy_score\n",
    "from sklearn.preprocessing import LabelEncoder, OrdinalEncoder, OneHotEncoder #imported all for testing\n",
    "from sklearn.compose import ColumnTransformer\n",
    "from sklearn.linear_model import LogisticRegression \n",
    "from sklearn.metrics import mean_squared_error, r2_score\n",
    "\n",
    "TEST_SIZE = 0.2"
   ]
  },
  {
   "cell_type": "code",
   "execution_count": 4,
   "id": "57310547-c1ba-4dfa-86da-f5ad5dd8109b",
   "metadata": {},
   "outputs": [
    {
     "name": "stdout",
     "output_type": "stream",
     "text": [
      "Accident_Severity\n",
      "Slight     263280\n",
      "Serious     40740\n",
      "Fatal        3953\n",
      "Name: count, dtype: int64\n"
     ]
    }
   ],
   "source": [
    "csv_data = pd.read_csv('./Road Accident Data.csv', low_memory=False)\n",
    "csv_data.head()\n",
    "\n",
    "csv_data['Accident_Severity'] = csv_data['Accident_Severity'].str.replace('Fetal', 'Fatal')\n",
    "counts = csv_data['Accident_Severity'].value_counts()\n",
    "print(counts)"
   ]
  },
  {
   "cell_type": "code",
   "execution_count": 5,
   "id": "48fc5944-a761-4aaf-808c-8bab36b081f1",
   "metadata": {},
   "outputs": [],
   "source": [
    "X = csv_data[['Weather_Conditions','Light_Conditions','Number_of_Vehicles','Road_Type','Time','Speed_limit','Urban_or_Rural_Area']]\n",
    "Y = csv_data['Accident_Severity']"
   ]
  },
  {
   "cell_type": "code",
   "execution_count": 6,
   "id": "af4a8e17-2e7a-4880-8c28-4b941efced63",
   "metadata": {},
   "outputs": [],
   "source": [
    "categorical_features = ['Weather_Conditions', 'Light_Conditions', 'Road_Type', 'Time', 'Urban_or_Rural_Area']\n",
    "one_hot_encoder = OneHotEncoder()\n",
    "preprocessor = ColumnTransformer(transformers=[('cat', one_hot_encoder, categorical_features)], remainder='passthrough')\n",
    "X_encoded = preprocessor.fit_transform(X)"
   ]
  },
  {
   "cell_type": "code",
   "execution_count": 7,
   "id": "a90ec06c-5402-4258-be26-58d162b52878",
   "metadata": {},
   "outputs": [],
   "source": [
    "X_train, X_test, y_train, y_test = train_test_split(X_encoded, Y, test_size=TEST_SIZE, random_state=1)"
   ]
  },
  {
   "cell_type": "code",
   "execution_count": null,
   "id": "4396980e-b08f-43a6-a3a0-624fade26e12",
   "metadata": {},
   "outputs": [],
   "source": [
    "model = LogisticRegression(max_iter=10000)\n",
    "model.fit(X_train, y_train)"
   ]
  },
  {
   "cell_type": "code",
   "execution_count": null,
   "id": "c22a80b8-2d96-4088-bf14-ac9123e15971",
   "metadata": {},
   "outputs": [],
   "source": [
    "print(model.coef_.shape)  # This should output something like (1, n_features)\n",
    "print(X.shape[1]) "
   ]
  },
  {
   "cell_type": "code",
   "execution_count": null,
   "id": "659e21f3-2457-45b0-804b-492fd1cbacb4",
   "metadata": {},
   "outputs": [],
   "source": [
    "y_pred = model.predict(X_test)"
   ]
  },
  {
   "cell_type": "code",
   "execution_count": null,
   "id": "f27cf072-0682-490e-8662-ccfce4dcd4c7",
   "metadata": {},
   "outputs": [],
   "source": [
    "print(f\"Accuracy: {accuracy_score(y_test, y_pred)}\")\n",
    "print(\"Classification Report:\\n\", classification_report(y_test, y_pred))\n",
    "print(\"Confusion Matrix:\\n\", confusion_matrix(y_test, y_pred))"
   ]
  },
  {
   "cell_type": "code",
   "execution_count": null,
   "id": "7eec8140-5fc0-4e4f-b4bf-4a1bc75b50b3",
   "metadata": {},
   "outputs": [],
   "source": []
  }
 ],
 "metadata": {
  "kernelspec": {
   "display_name": "Python 3 (ipykernel)",
   "language": "python",
   "name": "python3"
  },
  "language_info": {
   "codemirror_mode": {
    "name": "ipython",
    "version": 3
   },
   "file_extension": ".py",
   "mimetype": "text/x-python",
   "name": "python",
   "nbconvert_exporter": "python",
   "pygments_lexer": "ipython3",
   "version": "3.11.7"
  }
 },
 "nbformat": 4,
 "nbformat_minor": 5
}
